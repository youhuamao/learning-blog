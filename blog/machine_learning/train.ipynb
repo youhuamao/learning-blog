{
 "cells": [
  {
   "cell_type": "code",
   "execution_count": 1,
   "id": "9e758abf-ef7b-4ab2-be51-c0db0b169b89",
   "metadata": {
    "tags": []
   },
   "outputs": [],
   "source": [
    "#!/usr/bin/env python\n",
    "# -*- coding: utf-8 -*-\n",
    "# @Author   : huhu\n",
    "# @Time     : 2023/3/20 9:14\n",
    "# @File     : train.py.py\n",
    "# @Project  : blog_04\n",
    "# @objective: \n",
    "import pandas as pd\n",
    "from sklearn.model_selection import train_test_split"
   ]
  },
  {
   "cell_type": "code",
   "execution_count": 2,
   "id": "a6a1e8fa-34da-4282-821f-0489f0c0804e",
   "metadata": {
    "tags": []
   },
   "outputs": [
    {
     "name": "stdout",
     "output_type": "stream",
     "text": [
      "               分类名称                            新闻字符串\n",
      "0  news_agriculture  农村集市“野味”，它卖50元一斤，好多人没见过还嫌贵，不识货？\n",
      "1         news_tech      微信小程序带给传统企业哪些颠覆性的优势？你还在观望吗？\n",
      "0    news_agriculture\n",
      "1           news_tech\n",
      "Name: 分类名称, dtype: object\n"
     ]
    }
   ],
   "source": [
    "# 得到评论，normal_file为存放正常评论的文件，spam_file为存放垃圾评论的文件\n",
    "train_data = pd.read_csv('data/train/train.csv')\n",
    "test_data  = pd.read_csv('data/test/test.csv')\n",
    "\n",
    "print (train_data.head(2))\n",
    "\n",
    "# 将特征划分到 X 中，标签划分到 Y 中\n",
    "x = train_data.iloc[:, 1:]\n",
    "y = train_data.iloc[:, 0]\n",
    "\n",
    "print(y.head(2))"
   ]
  },
  {
   "cell_type": "code",
   "execution_count": 3,
   "id": "fa5e3353-ce65-4820-874f-6ea5027f7bc7",
   "metadata": {
    "tags": []
   },
   "outputs": [],
   "source": [
    "# 对数据集进行随机划分，训练过程暂时没有使用测试数据\n",
    "x_train, x_test, y_train, y_test = train_test_split(x, y, test_size=0.3)"
   ]
  },
  {
   "cell_type": "code",
   "execution_count": 4,
   "id": "b0c5f857-98f6-4dbb-88ff-e84ff502f21d",
   "metadata": {
    "tags": []
   },
   "outputs": [
    {
     "data": {
      "text/html": [
       "<div>\n",
       "<style scoped>\n",
       "    .dataframe tbody tr th:only-of-type {\n",
       "        vertical-align: middle;\n",
       "    }\n",
       "\n",
       "    .dataframe tbody tr th {\n",
       "        vertical-align: top;\n",
       "    }\n",
       "\n",
       "    .dataframe thead th {\n",
       "        text-align: right;\n",
       "    }\n",
       "</style>\n",
       "<table border=\"1\" class=\"dataframe\">\n",
       "  <thead>\n",
       "    <tr style=\"text-align: right;\">\n",
       "      <th></th>\n",
       "      <th>新闻字符串</th>\n",
       "    </tr>\n",
       "  </thead>\n",
       "  <tbody>\n",
       "    <tr>\n",
       "      <th>189853</th>\n",
       "      <td>哪个懂车的现代iX35和哈佛H2S自动挡的哪个好我想买谢谢？</td>\n",
       "    </tr>\n",
       "    <tr>\n",
       "      <th>149874</th>\n",
       "      <td>军演时来敌人了怎么办？</td>\n",
       "    </tr>\n",
       "    <tr>\n",
       "      <th>19942</th>\n",
       "      <td>为什么美国这么有钱？</td>\n",
       "    </tr>\n",
       "    <tr>\n",
       "      <th>65951</th>\n",
       "      <td>山东能不能种植甘蔗？</td>\n",
       "    </tr>\n",
       "    <tr>\n",
       "      <th>190155</th>\n",
       "      <td>通道：田间育种忙</td>\n",
       "    </tr>\n",
       "  </tbody>\n",
       "</table>\n",
       "</div>"
      ],
      "text/plain": [
       "                                 新闻字符串\n",
       "189853  哪个懂车的现代iX35和哈佛H2S自动挡的哪个好我想买谢谢？\n",
       "149874                     军演时来敌人了怎么办？\n",
       "19942                       为什么美国这么有钱？\n",
       "65951                       山东能不能种植甘蔗？\n",
       "190155                        通道：田间育种忙"
      ]
     },
     "execution_count": 4,
     "metadata": {},
     "output_type": "execute_result"
    }
   ],
   "source": [
    "x_train.head()"
   ]
  },
  {
   "cell_type": "markdown",
   "id": "e894bd77-e237-4c0d-bc2f-4a93b9016fd2",
   "metadata": {},
   "source": [
    "#### 2，中文文本处理"
   ]
  },
  {
   "cell_type": "code",
   "execution_count": 5,
   "id": "1ff9b2c8-0523-4c17-91a6-85b01c0a87e0",
   "metadata": {
    "tags": []
   },
   "outputs": [],
   "source": [
    "#-*-coding:utf-8-*-\n",
    "\n",
    "from sklearn.feature_extraction.text import CountVectorizer\n",
    "from sklearn.feature_extraction.text import TfidfTransformer\n",
    "from sklearn.feature_selection import SelectKBest\n",
    "from sklearn.feature_selection import chi2\n",
    "from sklearn.metrics import classification_report"
   ]
  },
  {
   "cell_type": "code",
   "execution_count": 6,
   "id": "050ee631-de81-42e9-9a78-a7cb61407844",
   "metadata": {
    "tags": []
   },
   "outputs": [],
   "source": [
    "# stopword.txt 是停用词存储所在的文件\n",
    "stopword_file = open(\"data/stopword/stopword.txt\", encoding='utf-8', errors='ignore')\n",
    "# stopword_file = open(\"data/stopword/stopwords_zh.txt\")\n",
    "stopword_content = stopword_file.read()\n",
    "stopword_list = stopword_content.splitlines()\n",
    "stopword_file.close()"
   ]
  },
  {
   "cell_type": "code",
   "execution_count": 7,
   "id": "c8852dad-f4df-4c01-a1f8-4ca08e474d8d",
   "metadata": {
    "tags": []
   },
   "outputs": [
    {
     "name": "stdout",
     "output_type": "stream",
     "text": [
      ",\n"
     ]
    }
   ],
   "source": [
    "print(stopword_list[0])"
   ]
  },
  {
   "cell_type": "code",
   "execution_count": 8,
   "id": "af8f5891-3cfd-47fb-a16f-3533d86eb8f6",
   "metadata": {
    "tags": []
   },
   "outputs": [
    {
     "name": "stderr",
     "output_type": "stream",
     "text": [
      "C:\\Users\\Administrator\\AppData\\Local\\Programs\\Python\\Python310\\lib\\site-packages\\sklearn\\feature_extraction\\text.py:409: UserWarning: Your stop_words may be inconsistent with your preprocessing. Tokenizing the stop words generated tokens ['ain', 'aren', 'couldn', 'didn', 'doesn', 'don', 'hadn', 'hasn', 'haven', 'isn', 'll', 'mon', 'shouldn', 've', 'wasn', 'weren', 'won', 'wouldn'] not in stop_words.\n",
      "  warnings.warn(\n"
     ]
    }
   ],
   "source": [
    "# 常见的特征数值计算类，是一个文本特征提取方法。对于每一个训练文本，它只考虑每种词汇在该训练文本中出现的频率。\n",
    "# count_vect = CountVectorizer(stop_words=stopword_list, token_pattern=r\"(?u)\\b\\w+\\b\")\n",
    "count_vect  = CountVectorizer(stop_words=stopword_list)\n",
    "train_count = count_vect.fit_transform(list(x_train['新闻字符串']))"
   ]
  },
  {
   "cell_type": "code",
   "execution_count": 9,
   "id": "b0591c47-27aa-4797-8020-7f95f9aef4ab",
   "metadata": {
    "tags": []
   },
   "outputs": [
    {
     "name": "stdout",
     "output_type": "stream",
     "text": [
      "  (0, 87555)\t1\n"
     ]
    }
   ],
   "source": [
    "print(train_count[0])"
   ]
  },
  {
   "cell_type": "code",
   "execution_count": null,
   "id": "84591258-f1fb-45c3-af9f-4ba61a4e12fe",
   "metadata": {},
   "outputs": [],
   "source": []
  },
  {
   "cell_type": "code",
   "execution_count": 10,
   "id": "46198861-69f3-473a-927d-9b35c7095477",
   "metadata": {
    "tags": []
   },
   "outputs": [],
   "source": [
    "# tf-idf chi特征选择；类似将自然语言转成机器能识别的向量\n",
    "tfidf_trainformer = TfidfTransformer()\n",
    "train_tfidf = tfidf_trainformer.fit_transform(train_count)\n",
    "select = SelectKBest(chi2, k=100)\n",
    "train_tfidf_chi = select.fit_transform(train_tfidf, y_train)"
   ]
  },
  {
   "cell_type": "code",
   "execution_count": 11,
   "id": "06056710-3c81-4f01-8ba7-bac4d50d5037",
   "metadata": {},
   "outputs": [
    {
     "name": "stdout",
     "output_type": "stream",
     "text": [
      "\n"
     ]
    }
   ],
   "source": [
    "print(train_tfidf_chi[0])"
   ]
  },
  {
   "cell_type": "code",
   "execution_count": 12,
   "id": "9c69dae5-af30-45d6-b4d0-0c46f45839ad",
   "metadata": {
    "tags": []
   },
   "outputs": [
    {
     "name": "stdout",
     "output_type": "stream",
     "text": [
      "train accurancy: 0.9963285714285715\n",
      "输出分类报告:                     precision    recall  f1-score   support\n",
      "\n",
      "  news_agriculture       1.00      1.00      1.00      7100\n",
      "          news_car       1.00      1.00      1.00     13161\n",
      "      news_culture       1.00      0.99      1.00     10367\n",
      "          news_edu       1.00      1.00      1.00      9914\n",
      "news_entertainment       1.00      1.00      1.00     14250\n",
      "      news_finance       0.99      0.99      0.99      9995\n",
      "         news_game       1.00      1.00      1.00     10726\n",
      "        news_house       1.00      1.00      1.00      6411\n",
      "     news_military       0.99      0.99      0.99      9168\n",
      "       news_sports       1.00      1.00      1.00     13654\n",
      "        news_story       1.00      1.00      1.00      2301\n",
      "         news_tech       0.99      0.99      0.99     15134\n",
      "       news_travel       1.00      1.00      1.00      7814\n",
      "        news_world       0.99      0.99      0.99      9873\n",
      "             stock       0.96      0.92      0.94       132\n",
      "\n",
      "          accuracy                           1.00    140000\n",
      "         macro avg       0.99      0.99      0.99    140000\n",
      "      weighted avg       1.00      1.00      1.00    140000\n",
      "\n"
     ]
    }
   ],
   "source": [
    "from sklearn.naive_bayes import MultinomialNB\n",
    "clf = MultinomialNB(alpha=0.001)\n",
    "\n",
    "# 模型训练\n",
    "clf.fit(train_tfidf, y_train)\n",
    "\n",
    "# import ant 准确值\n",
    "print(\"train accurancy:\", clf.score(train_tfidf, y_train))\n",
    "\n",
    "# 预测值（结果内容是识别的具体值）\n",
    "train_pre = clf.predict(train_tfidf)\n",
    "\n",
    "# 输出分类报告（大概就是准确率、召回率）\n",
    "print('输出分类报告:', classification_report(train_pre, y_train))"
   ]
  },
  {
   "cell_type": "code",
   "execution_count": 13,
   "id": "519136b7-8774-4553-af45-6e0fedff1470",
   "metadata": {
    "tags": []
   },
   "outputs": [],
   "source": [
    "import pickle\n",
    "with open('model/clf.pickle', 'wb') as fw:\n",
    "    pickle.dump(clf, fw)\n",
    "\n",
    "with open('model/count_vect.pickle', 'wb') as fw:\n",
    "    pickle.dump(count_vect, fw)\n",
    "\n",
    "with open('model/tfidf_trainformer.pickle', 'wb') as fw:\n",
    "    pickle.dump(tfidf_trainformer, fw)"
   ]
  },
  {
   "cell_type": "markdown",
   "id": "ecfe73c6-b0ca-43e2-af61-2acbcde20e21",
   "metadata": {},
   "source": [
    "#### 3，模型预测"
   ]
  },
  {
   "cell_type": "code",
   "execution_count": 14,
   "id": "ab7a0a47-111c-4180-aa25-2b84548aaf00",
   "metadata": {
    "tags": []
   },
   "outputs": [],
   "source": [
    "# 将特征划分到 X 中，标签划分到 Y 中\n",
    "test_x = test_data.iloc[:, 1:]\n",
    "test_y = test_data.iloc[:, 0]"
   ]
  },
  {
   "cell_type": "code",
   "execution_count": 15,
   "id": "b92b2046-69f1-4960-9610-dbe79119374b",
   "metadata": {
    "tags": []
   },
   "outputs": [],
   "source": [
    "# 读取模型\n",
    "with open('model/clf.pickle', 'rb') as clf:\n",
    "    clf1 = pickle.load(clf)\n",
    "\n",
    "with open('model/count_vect.pickle', 'rb') as count_vect:\n",
    "    count_vect1 = pickle.load(count_vect)\n",
    "\n",
    "with open('model/tfidf_trainformer.pickle', 'rb') as tfidf_trainformer:\n",
    "    tfidf_trainformer1 = pickle.load(tfidf_trainformer)"
   ]
  },
  {
   "cell_type": "code",
   "execution_count": null,
   "id": "4fdea6b7-2d03-427d-8eb9-ea2f3c3c4aad",
   "metadata": {},
   "outputs": [],
   "source": []
  },
  {
   "cell_type": "code",
   "execution_count": 16,
   "id": "9ed260ce-0d04-4436-8e70-4ce87e619b7d",
   "metadata": {
    "tags": []
   },
   "outputs": [
    {
     "name": "stderr",
     "output_type": "stream",
     "text": [
      "C:\\Users\\Administrator\\AppData\\Local\\Programs\\Python\\Python310\\lib\\site-packages\\sklearn\\feature_extraction\\text.py:409: UserWarning: Your stop_words may be inconsistent with your preprocessing. Tokenizing the stop words generated tokens ['ain', 'aren', 'couldn', 'didn', 'doesn', 'don', 'hadn', 'hasn', 'haven', 'isn', 'll', 'mon', 'shouldn', 've', 'wasn', 'weren', 'won', 'wouldn'] not in stop_words.\n",
      "  warnings.warn(\n"
     ]
    }
   ],
   "source": [
    "# 停用词处理等\n",
    "test_count = count_vect1.transform(list(test_x['新闻字符串']))"
   ]
  },
  {
   "cell_type": "code",
   "execution_count": 17,
   "id": "ae46c973-a374-476c-adac-b32311d6bcca",
   "metadata": {
    "tags": []
   },
   "outputs": [],
   "source": [
    "test_count = count_vect1.transform([test_x['新闻字符串'][0]])"
   ]
  },
  {
   "cell_type": "code",
   "execution_count": 18,
   "id": "0cd32506-6eea-45fd-bb75-f9d6f7f8bd08",
   "metadata": {
    "tags": []
   },
   "outputs": [
    {
     "data": {
      "text/plain": [
       "['全球唯一一辆没有对手的SUV, 一年只卖1000台！']"
      ]
     },
     "execution_count": 18,
     "metadata": {},
     "output_type": "execute_result"
    }
   ],
   "source": [
    "[test_x['新闻字符串'][0]]"
   ]
  },
  {
   "cell_type": "code",
   "execution_count": 19,
   "id": "86483ec8-024f-4f6e-b5af-8d5fe49c18bf",
   "metadata": {
    "tags": []
   },
   "outputs": [
    {
     "name": "stdout",
     "output_type": "stream",
     "text": [
      "  (0, 21077)\t1\n",
      "  (0, 61266)\t1\n"
     ]
    }
   ],
   "source": [
    "print (test_count)"
   ]
  },
  {
   "cell_type": "code",
   "execution_count": null,
   "id": "834e3717-e7fe-4c0c-8fa0-aa37512e75fa",
   "metadata": {},
   "outputs": [],
   "source": []
  },
  {
   "cell_type": "code",
   "execution_count": 20,
   "id": "3e698549-6fc8-4eb5-b354-5a2f96ecfd26",
   "metadata": {
    "tags": []
   },
   "outputs": [],
   "source": [
    "# 特征选择\n",
    "test_tfidf = tfidf_trainformer1.transform(test_count)\n",
    "select = SelectKBest(chi2, k=100)\n",
    "# test_tfidf_chi = select.transform(test_tfidf)"
   ]
  },
  {
   "cell_type": "code",
   "execution_count": 21,
   "id": "7a92d536-22ba-4a1f-bb52-33adc06e9d01",
   "metadata": {
    "tags": []
   },
   "outputs": [
    {
     "name": "stdout",
     "output_type": "stream",
     "text": [
      "  (0, 61266)\t0.7071067811865476\n",
      "  (0, 21077)\t0.7071067811865476\n"
     ]
    }
   ],
   "source": [
    "print (test_tfidf)"
   ]
  },
  {
   "cell_type": "code",
   "execution_count": 24,
   "id": "dd126f3e-dd8a-4963-8986-be626842d5df",
   "metadata": {},
   "outputs": [],
   "source": [
    "test_y = clf1.predict(test_tfidf)"
   ]
  },
  {
   "cell_type": "code",
   "execution_count": 25,
   "id": "d29bb3cf-4d7d-49b7-a7d6-5cb803ccbe62",
   "metadata": {
    "tags": []
   },
   "outputs": [],
   "source": [
    "# 使用模型识别数据\n",
    "accurancy = clf1.score(test_tfidf, test_y)"
   ]
  },
  {
   "cell_type": "code",
   "execution_count": 26,
   "id": "2d1ffe0d-de38-4c04-8c9c-6b38d3e37968",
   "metadata": {
    "tags": []
   },
   "outputs": [
    {
     "name": "stdout",
     "output_type": "stream",
     "text": [
      "accurancy 1.0\n"
     ]
    }
   ],
   "source": [
    "# 识别准确率\n",
    "print(\"accurancy\", accurancy)"
   ]
  },
  {
   "cell_type": "code",
   "execution_count": 27,
   "id": "d66cc6d6-98ad-41b6-aab8-3acce4c93ad1",
   "metadata": {
    "tags": []
   },
   "outputs": [
    {
     "data": {
      "text/plain": [
       "<1x251947 sparse matrix of type '<class 'numpy.float64'>'\n",
       "\twith 2 stored elements in Compressed Sparse Row format>"
      ]
     },
     "execution_count": 27,
     "metadata": {},
     "output_type": "execute_result"
    }
   ],
   "source": [
    "test_tfidf[0]"
   ]
  },
  {
   "cell_type": "code",
   "execution_count": 28,
   "id": "3bc31cec-7bbb-4483-990b-d4b96ff0add1",
   "metadata": {
    "tags": []
   },
   "outputs": [],
   "source": [
    "# 识别结果，类型是numpy.int32（可以使用int()直接转换成int型），后面通过excel来存储\n",
    "test_pre = clf1.predict(test_tfidf[0])"
   ]
  },
  {
   "cell_type": "code",
   "execution_count": 29,
   "id": "db6fd7aa-6f99-4f00-b237-286ff5d54ccf",
   "metadata": {
    "tags": []
   },
   "outputs": [
    {
     "data": {
      "text/plain": [
       "'news_car'"
      ]
     },
     "execution_count": 29,
     "metadata": {},
     "output_type": "execute_result"
    }
   ],
   "source": [
    "test_pre[0]"
   ]
  },
  {
   "cell_type": "code",
   "execution_count": null,
   "id": "9cba820d-1dcb-4eef-9d35-5a5272e0e37c",
   "metadata": {},
   "outputs": [],
   "source": []
  }
 ],
 "metadata": {
  "kernelspec": {
   "display_name": "Python 3 (ipykernel)",
   "language": "python",
   "name": "python3"
  },
  "language_info": {
   "codemirror_mode": {
    "name": "ipython",
    "version": 3
   },
   "file_extension": ".py",
   "mimetype": "text/x-python",
   "name": "python",
   "nbconvert_exporter": "python",
   "pygments_lexer": "ipython3",
   "version": "3.10.10"
  }
 },
 "nbformat": 4,
 "nbformat_minor": 5
}
